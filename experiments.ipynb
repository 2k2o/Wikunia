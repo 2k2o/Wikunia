{
 "metadata": {
  "language_info": {
   "codemirror_mode": {
    "name": "ipython",
    "version": 3
   },
   "file_extension": ".py",
   "mimetype": "text/x-python",
   "name": "python",
   "nbconvert_exporter": "python",
   "pygments_lexer": "ipython3",
   "version": "3.8.6-final"
  },
  "orig_nbformat": 2,
  "kernelspec": {
   "name": "python3",
   "display_name": "Python 3"
  }
 },
 "nbformat": 4,
 "nbformat_minor": 2,
 "cells": [
  {
   "cell_type": "code",
   "execution_count": 25,
   "metadata": {},
   "outputs": [],
   "source": [
    "from flair.data import Sentence\n",
    "from flair.embeddings import SentenceTransformerDocumentEmbeddings\n",
    "from sentence_transformers import util"
   ]
  },
  {
   "cell_type": "code",
   "execution_count": null,
   "metadata": {},
   "outputs": [],
   "source": [
    "# init embedding\n",
    "embedding = SentenceTransformerDocumentEmbeddings('distiluse-base-multilingual-cased-v2')"
   ]
  },
  {
   "cell_type": "code",
   "execution_count": 31,
   "metadata": {},
   "outputs": [],
   "source": [
    "# create a sentence\n",
    "s1 = Sentence('Bundeskanzlerin Merkel in den USA. Donald Trump begrüßt sie herzlich.', use_tokenizer=True)\n",
    "s2 = Sentence('Präsident Trump empfängt Angela Merkel.', use_tokenizer=True)\n",
    "s3 = Sentence('Welche Orangensorte bist du.', use_tokenizer=True)"
   ]
  },
  {
   "cell_type": "code",
   "execution_count": 32,
   "metadata": {},
   "outputs": [],
   "source": [
    "# embed the sentence\n",
    "for s in [s1, s2, s3]:\n",
    "    embedding.embed(s)"
   ]
  },
  {
   "cell_type": "code",
   "execution_count": 30,
   "metadata": {},
   "outputs": [
    {
     "output_type": "stream",
     "name": "stdout",
     "text": [
      "Sentence: \"Bundeskanzlerin Merkel in den USA .\"   [− Tokens: 6] Sentence: \"Bundeskanzlerin Merkel in den USA .\"   [− Tokens: 6]\n0.9999995231628418\nSentence: \"Bundeskanzlerin Merkel in den USA .\"   [− Tokens: 6] Sentence: \"Präsident Trump empfängt Angela Merkel .\"   [− Tokens: 6]\n0.7817918062210083\nSentence: \"Bundeskanzlerin Merkel in den USA .\"   [− Tokens: 6] Sentence: \"Welche Orangensorte bist du .\"   [− Tokens: 5]\n-0.0033678198233246803\nSentence: \"Präsident Trump empfängt Angela Merkel .\"   [− Tokens: 6] Sentence: \"Bundeskanzlerin Merkel in den USA .\"   [− Tokens: 6]\n0.7817918062210083\nSentence: \"Präsident Trump empfängt Angela Merkel .\"   [− Tokens: 6] Sentence: \"Präsident Trump empfängt Angela Merkel .\"   [− Tokens: 6]\n0.9999999403953552\nSentence: \"Präsident Trump empfängt Angela Merkel .\"   [− Tokens: 6] Sentence: \"Welche Orangensorte bist du .\"   [− Tokens: 5]\n0.01524513028562069\nSentence: \"Welche Orangensorte bist du .\"   [− Tokens: 5] Sentence: \"Bundeskanzlerin Merkel in den USA .\"   [− Tokens: 6]\n-0.0033678198233246803\nSentence: \"Welche Orangensorte bist du .\"   [− Tokens: 5] Sentence: \"Präsident Trump empfängt Angela Merkel .\"   [− Tokens: 6]\n0.01524513028562069\nSentence: \"Welche Orangensorte bist du .\"   [− Tokens: 5] Sentence: \"Welche Orangensorte bist du .\"   [− Tokens: 5]\n0.9999991059303284\n"
     ]
    }
   ],
   "source": [
    "for s_i in [s1, s2, s3]:\n",
    "    for s_j in [s1, s2, s3]:\n",
    "        print(s_i, s_j)\n",
    "        print(util.pytorch_cos_sim(s_i.embedding, s_j.embedding).item())"
   ]
  },
  {
   "cell_type": "code",
   "execution_count": 20,
   "metadata": {},
   "outputs": [],
   "source": [
    "#import newspaper\n",
    "import nltk\n",
    "from nltk.tokenize import word_tokenize\n",
    "from nltk.corpus import stopwords\n",
    "from nltk.stem.cistem import Cistem\n",
    "#from sklearn.feature_extraction.text import TfidfVectorizer\n",
    "import json"
   ]
  },
  {
   "cell_type": "code",
   "execution_count": 21,
   "metadata": {},
   "outputs": [],
   "source": [
    "with open(\"rss/2020/10/29/rss_de.json\", \"r\") as f:\n",
    "    data = json.load(f)"
   ]
  },
  {
   "cell_type": "code",
   "execution_count": 25,
   "metadata": {},
   "outputs": [],
   "source": [
    "data = [d[\"title\"] + \" \" + d[\"summary\"] for d in data]"
   ]
  },
  {
   "cell_type": "code",
   "execution_count": 27,
   "metadata": {},
   "outputs": [],
   "source": [
    "def preprocess(text):\n",
    "    # Tokenization\n",
    "    tokens = word_tokenize(text, language=\"german\")\n",
    "    # Stop Word Removal\n",
    "    tokens = [token for token in tokens if token not in set(stopwords.words(\"german\"))]\n",
    "    # Stemming\n",
    "    stemmer = Cistem()\n",
    "    tokens = [stemmer.stem(token) for token in tokens]\n",
    "    return tokens"
   ]
  },
  {
   "cell_type": "code",
   "execution_count": null,
   "metadata": {},
   "outputs": [],
   "source": []
  },
  {
   "cell_type": "code",
   "execution_count": 9,
   "metadata": {},
   "outputs": [],
   "source": [
    "news = newspaper.build('http://tagesschau.de', language=\"de\")"
   ]
  },
  {
   "cell_type": "code",
   "execution_count": 13,
   "metadata": {
    "tags": []
   },
   "outputs": [
    {
     "output_type": "stream",
     "name": "stdout",
     "text": [
      "Bundestagswahl 2017\n",
      "Europawahl 2019\n",
      "Video: USA: Abgehängt vom Gesundheitssystem\n",
      "Video: Nach schwerem Erdbeben in der Ägäis dauert Suche nach Vermissten an\n",
      "Bau abgenommen, Nutzungsfreigabe erteilt: Landkreis gibt Flughafen BER grünes Licht\n",
      "Video: Proteste gegen die Inbetriebnahme des BER\n",
      "Wetterthema | tagesschau.de\n",
      "Video: Bericht aus Berlin: Sonntag um 18:05 Uhr mit Tina Hassel\n",
      "Die tagesschau stellt bestimmte Inhalte unter Creative Commons\n",
      "Video: USA: Abgehängt vom Gesundheitssystem\n",
      "Video: Nach schwerem Erdbeben in der Ägäis dauert Suche nach Vermissten an\n",
      "Video: Proteste gegen die Inbetriebnahme des BER\n",
      "Wetterthema | tagesschau.de\n",
      "Video: Bericht aus Berlin: Sonntag um 18:05 Uhr mit Tina Hassel\n",
      "Wetterthema | tagesschau.de\n",
      "Wetterthema | tagesschau.de\n",
      "Wetterthema | tagesschau.de\n",
      "Wetterthema | tagesschau.de\n",
      "Video: Bundestag debattiert über islamistischen Terror\n",
      "Video: Deutschland verzeichnet erneut Höchststand an Corona-Neuinfektionen\n",
      "Video: Wie die Bundeskanzlerin in ihrer Regierungserklärung für Solidarität wirbt\n",
      "Video: ARD extra: Die Corona-Lage\n",
      "Video: Mit dem Lockdown kehrt die Unsicherheit zurück\n",
      "Video: Bund und Länder beschließen neue Verschärfungen der Maßnahmen für November\n",
      "Video: Neue Corona-Maßnahmen: Das sagt Tschentscher\n",
      "Video: Neue Regeln: Gastronomie enttäuscht - Verband übt Kritik\n",
      "Verteidigungsministerium Vergabe für Sturmgewehr gestoppt\n",
      "Video: Ärzteverbände gegen pauschalen Lockdown\n",
      "Video: Die Auseinandersetzung um den verschobenen CDU-Parteitag\n",
      "Video: Die Linke sagt geplanten Bundesparteitag ab\n",
      "Drosten im Corona-Podcast: Ein kurzer \"Lockdown\" wäre eine gute Idee\n",
      "Video: Deutschlandtrend Extra: Mehrheit befürwortet Corona-Regeln weiterhin\n",
      "Video: Diskussion über neue Maßnahmen zur Eindämmung der Pandemie\n",
      "Lockdown in Rottal-Inn ab Dienstag | BR24\n",
      "Video: Weltgesundheitsgipfel eröffnet: Steinmeier ruft zur Zusammenarbeit bei Corona auf\n",
      "Video: Gedenkfeier für verstorbenen Vizepräsidenten Thomas Oppermann\n",
      "\"Corona-Monitor\" der Universität Erfurt | uni-erfurt.de\n",
      "Video: RKI-Briefing: Eindringlicher Appell an die Bevölkerung\n",
      "Video: Trotz hoher Infektionszahlen sind noch Intensivbetten verfügbar\n",
      "Video: Christian Feld, ARD Berlin: Keine Hinweise auf weitere Infektionen im Kabinett\n",
      "Video: Bayern verschärft Corona-Maßnahmen\n",
      "Video: Corona-Maßnahmen und die Parlamente\n",
      "Video: Sexualisierte Gewalt gegen Kinder soll härter bestraft werden\n",
      "Video: Diskussion um Abschiebestopp für Syrer nach Messerattacke in Dresden\n",
      "Video: Verfassungsschutzreform: Künftig auch Nachrichtendienste im Visier\n",
      "Gesundheitsminister in der Kritik Spahn verteidigt Corona-Sonderrechte\n",
      "Video: Lage der Corona-Pandemie in Deutschland\n",
      "Video: Überblick über Impfstoff-Entwicklung\n",
      "Video: Bundesregierung will Kitas offen lassen\n",
      "Video: Reform der Pflegeversicherung\n",
      "Video: Kandidaten für den CDU-Vorsitz stellen sich Fragerunde der Jungen Union\n",
      "Video: #mittendrin: Umgang mit Diskriminierung - Sinti in Freiburg\n",
      "RESTART-19: Veranstaltungen in der Halle sind während Pandemie möglich\n",
      "Berliner Mietendeckel: Bundesverfassungsgericht lehnt Eilantrag zu teilweiser Aussetzung ab\n",
      "Wetterthema | tagesschau.de\n",
      "Wetterthema | tagesschau.de\n",
      "Wetterthema | tagesschau.de\n",
      "Wetterthema | tagesschau.de\n",
      "Video: Nach Messerattacke in Dresden: Bundesanwaltschaft geht von radikal-islamistischem Hintergrund aus\n",
      "Video: \"QAnon\" in Deutschland\n",
      "Video: Heiner Hoffmann, SWR, zu den \"Pushbacks\" auf dem Mittelmeer\n",
      "Video: Patrick Gensing, NDR, über Fake News in Zeiten von Corona\n",
      "Video: Aserbaidschans Präsident Ilham Aliyev im Interview\n",
      "Video: Geladene Stimmung beim Wahlkampfendspurt in den USA\n",
      "US-Präsidentenwahl in Florida Rüstig und empört\n",
      "US-Wahlkampf So viele Jungwähler wie nie\n",
      "Video: Weitere Festnahme nach den Terror-Anschlägen in Frankreich\n",
      "Video: Höchste Terrorwarnstufe in Frankreich nach drei Anschlägen an einem Tag\n",
      "Video: Claire Demesmay, Deutsche Gesellschaft für Auswärtige Politik, zu den Auswirkungen der Anschläge in Frankreich\n",
      "Video: Corona in Europa: EU sucht gemeinsame Linie\n",
      "Corona-Hotspot Bütgenbach Der verzweifelte belgische Nachbar\n",
      "Video: Emerita Ramoon, seit dem Shutdown ohne Job\n",
      "Video: Tote und Verletzte bei starkem Erdeben in der Ägäis\n",
      "Video: Zehntausende demonstrieren gegen verschärftes Abtreibungsgesetz\n",
      "Video: Hurrikan Zeta fordert mindestens sechs Todesopfer\n",
      "Bürgerschaftswahl Hamburg 2020\n",
      "Video: Hauptstadt-Flughafen: BER wird offiziell eröffnet\n",
      "Sendungsarchiv\n",
      "Sendungsarchiv\n",
      "Sendungsarchiv\n",
      "Sendungsarchiv\n",
      "Sendungsarchiv\n",
      "Sendungsarchiv\n",
      "Sendungsarchiv\n",
      "Sendungsarchiv\n",
      "Video: Tagesschau in 100 Sekunden\n",
      "Video: Hauptstadt-Flughafen: BER wird offiziell eröffnet\n",
      "Video: Corona-Pandemie: Intensivpatienten sollen verteilt werden\n",
      "Video: Mecklenburg-Vorpommern: Touristen müssen bis 5. November abreisen\n",
      "Video: Bundesratspräsidentschaft: Haseloff will Deutsche Einheit voranbringen\n",
      "Video: Nach Erdbeben in der Ägäis: Rettungsarbeiten im Katastrophengebiet dauern an\n",
      "Video: Feiern zum Reformationstag: Gottesdienste unter Corona-Bedingungen\n",
      "Video: Rückgang der Konjunktur in der Coronakrise: Die Sorgen vieler Unternehmen\n",
      "Video: Messerangriff in Nizza: Debatte über islamistische Terrorgefahr in Deutschland\n",
      "Video: Wahlkampfendspurt in den USA: Wie läuft das Rennen für Trump und Biden?\n",
      "Video: Wachsendes Selbstbewusstsein: Der chinesische Führungsanspruch\n",
      "Video: Die Wetteraussichten\n",
      "Video: Wohin sich die deutsche Wirtschaft entwickeln könnte\n",
      "Video: Bundesagentur für Arbeit meldet gesunkene Arbeitslosenzahl im Oktober\n",
      "Ein Jahr EZB-Chefin Lagarde Oberste Moderatorin mit Schwächen\n",
      "Video: Claudia Kornmeier, SWR, über das EuGH-Urteil zur Lkw-Maut\n",
      "Video: Bund der Steuerzahler veröffentlicht sein jährliches Schwarzbuch der Steuerverschwendungen\n",
      "Hohe Nachfrage in den USA Vor der Wahl noch eine Waffe\n",
      "Video: Erdogan bezeichnet europäische Politiker als islamfeindlich\n",
      "Video: Pflegekräfte profitieren am meisten von Tarifeinigung\n",
      "Video: Tarifeinigung im öffentlichen Dienst\n",
      "Streit um Hauptstadtzulage: Tarifgemeinschaft deutscher Länder verabschiedet Ausschluss Berlins\n",
      "Alibaba-Tochter Ant Rekord-Börsengang geplant\n",
      "Video: #kurzerklärt: Die Bedeutung der Arbeitslosenstatistik\n",
      "US-Wahl: Der Kampf um den Kongress\n",
      "US-Wahl: Der Kampf um den Kongress\n",
      "Beben in Türkei und Griechenland: Lebenszeichen zwischen Trümmern\n",
      "Beben in Türkei und Griechenland: Lebenszeichen zwischen Trümmern\n",
      "Corona-Auflagen: Länder setzen Touristen Abreisefristen\n",
      "Corona-Auflagen: Länder setzen Touristen Abreisefristen\n",
      "Die letzten \"Gallischen Dörfer\" auf der Corona-Landkarte\n",
      "Die letzten \"Gallischen Dörfer\" auf der Corona-Landkarte\n",
      "US-Wahl: Für welche Wirtschaftspolitik stehen Trump und Biden?\n",
      "US-Wahl: Für welche Wirtschaftspolitik stehen Trump und Biden?\n",
      "Altmaier legt Herbstprognose vor: \"Wir stehen am Scheideweg\"\n",
      "Altmaier legt Herbstprognose vor: \"Wir stehen am Scheideweg\"\n",
      "Ökonomen: November-Nothilfen könnten nicht ausreichen\n",
      "Ökonomen: November-Nothilfen könnten nicht ausreichen\n",
      "Sturmgewehr der Bundeswehr: Was ging schief bei der Vergabe?\n",
      "Sturmgewehr der Bundeswehr: Was ging schief bei der Vergabe?\n",
      "Gigantische Gewinne für Tech-Konzerne in Corona-Krise\n",
      "Gigantische Gewinne für Tech-Konzerne in Corona-Krise\n",
      "US-Wahl: Der Kampf um den Kongress\n",
      "US-Wahl: Der Kampf um den Kongress\n",
      "Beben in Türkei und Griechenland: Lebenszeichen zwischen Trümmern\n",
      "Beben in Türkei und Griechenland: Lebenszeichen zwischen Trümmern\n",
      "US-Wahl: Der Kampf um den Kongress\n",
      "US-Wahl: Der Kampf um den Kongress\n",
      "US-Wahl: Der Kampf um den Kongress\n",
      "Beben in Türkei und Griechenland: Lebenszeichen zwischen Trümmern\n",
      "US-Wahl: Der Kampf um den Kongress\n",
      "Beben in Türkei und Griechenland: Lebenszeichen zwischen Trümmern\n",
      "Corona-Pandemie: Belgisches Klinikpersonal am Limit\n",
      "Bund und Länder auf der Suche nach dem Wellenbrecher\n",
      "Merkel will offenbar härtere Corona-Auflagen diskutieren\n",
      "\"Charlie Hebdo\"-Karikatur: Erdogan kündigt juristische Schritte an\n",
      "Alter Podcast neu aufgelegt: Merkels ungewöhnliche Mahnung\n",
      "RKI: 11.176 Corona-Neuinfektionen in Deutschland\n",
      "11.409 Corona-Neuinfektionen in Deutschland\n",
      "Video: WIRTSCHAFT: Konjunktureinbruch durch Corona-Krise, Die Börse, Weniger Ausbildungsplätze in diesem Jahr\n",
      "Teil-Lockdown: Touristen müssen Bayern am Montag verlassen | BR24\n",
      "Antibiotika-resistente Keime auf Neugeborenen-Intensivstation | BR24\n",
      "Säureangriff: Mann attackiert getrennt lebende Ehefrau | BR24\n",
      "Das Wunder von Berlin: Der BER ist tatsächlich in Betrieb\n",
      "Taxifahrer und Klimaschützer protestieren zum BER-Start\n",
      "Jetzt im Livestream: Sondersendung zum Start des Flughafens Berlin Brandenburg\n",
      "396 neue Corona-Fälle in Hamburg an einem Tag\n",
      "Tschentscher: Letzte Chance, kompletten Lockdown zu verhindern\n",
      "Coronafälle in Staatskanzlei: Bouffier in häuslicher Quarantäne\n",
      "Das Wichtigste zum Eintracht-Spiel gegen Bremen: Auf Augenhöhe\n",
      "Die letzten Abende vor dem Gastronomie-Lockdown 2.0\n",
      "Corona-Verordnung: Viele Verschärfungen, wenige Ausnahmen\n",
      "Vogelgrippe erreicht MV: Virus bei einem Bussard nachgewiesen\n",
      "Grünes Spitzenteam gewählt: Anne Shepley und Harald Terpe\n",
      "Corona: Rund zwei Prozent der Schulen melden Infektionen\n",
      "Drosten besucht alte Heimat Meppen: \"Respekt vor dem Virus\"\n",
      "Corona: Forscher warnen vor stark steigenden Todeszahlen\n",
      "Halloween in Corona-Zeiten in Rheinland-Pfalz\n",
      "Fast 1.000 Corona-Neuinfektionen in Rheinland-Pfalz am Freitag\n",
      "Coronavirus-Ticker: Kleiner Grenzverkehr in Sachsen bleibt\n",
      "Schließungen und Kontaktbeschränkungen - Neue Corona-Schutzverordnung für Sachsen\n",
      "Wie der Hauptstadtflughafen fast in der Altmark gebaut worden wäre\n",
      "Bewerbung für Kulturhauptstadt: Was Magdeburg von Chemnitz lernen kann\n",
      "Corona in Sachsen-Anhalt: So werden Verstöße gegen die Corona-Kontaktbeschränkungen geahndet\n",
      "Harrislee: Menschen protestieren gegen Bauschutt aus AKW\n",
      "Digitaler Parteitag von Schleswig-Holsteins Grünen\n",
      "Polizei fehlt Überblick über Thüringer Rockerszene\n",
      "Corona-News: Thüringer FDP verschiebt Landesparteitag in Eisenberg\n",
      "Vorwürfe gegen Weimarer Polizisten beschäftigen auch die Politik\n",
      "Bürgerschaftswahl Hamburg 2020\n",
      "Die tagesschau stellt bestimmte Inhalte unter Creative Commons\n",
      "Die tagesschau stellt bestimmte Inhalte unter Creative Commons\n",
      "So geht die tagesschau mit der Nennung von Namen in Gerichtsprozessen um\n",
      "So geht die tagesschau mit der Nennung von Namen in Gerichtsprozessen um\n",
      "So geht die tagesschau mit der Nennung von Namen in Gerichtsprozessen um\n",
      "Aufnahmen aus Beirut in tagesschau und tagesthemen\n",
      "Aufnahmen aus Beirut in tagesschau und tagesthemen\n",
      "Aufnahmen aus Beirut in tagesschau und tagesthemen\n",
      "Wir berichten aus New York, Rio, Tokio – und aus Ihrer Heimat! #tagesthemenmittendrin\n",
      "Wir berichten aus New York, Rio, Tokio – und aus Ihrer Heimat! #tagesthemenmittendrin\n",
      "Wir berichten aus New York, Rio, Tokio – und aus Ihrer Heimat! #tagesthemenmittendrin\n",
      "Einfach mal Danke sagen\n",
      "Einfach mal Danke sagen\n",
      "Einfach mal Danke sagen\n",
      "Wenig Licht am Ende des Tunnels\n",
      "Wenig Licht am Ende des Tunnels\n",
      "SPD stürzt, aber nicht ins Bodenlose\n",
      "SPD stürzt, aber nicht ins Bodenlose\n",
      "SPD stürzt, aber nicht ins Bodenlose\n",
      "Hamburg – das etwas andere Wählen\n",
      "Hamburg – das etwas andere Wählen\n",
      "Hamburg – das etwas andere Wählen\n",
      "Zum Begriff Fremdenfeindlichkeit\n",
      "Zum Begriff Fremdenfeindlichkeit\n",
      "Zum Begriff Fremdenfeindlichkeit\n",
      "CDU und SPD: Gegenwind aus Berlin\n",
      "CDU und SPD: Gegenwind aus Berlin\n",
      "CDU und SPD: Gegenwind aus Berlin\n"
     ]
    }
   ],
   "source": [
    "for a in news.articles:\n",
    "    a.download()\n",
    "    a.parse()\n",
    "    print(a.title)"
   ]
  },
  {
   "cell_type": "code",
   "execution_count": 15,
   "metadata": {},
   "outputs": [
    {
     "output_type": "execute_result",
     "data": {
      "text/plain": [
       "'Proteste gegen die Inbetriebnahme des BER\\n\\nDieser Artikel wurde ausgedruckt unter der Adresse: www.tagesschau.de/multimedia/video/video-776757.html'"
      ]
     },
     "metadata": {},
     "execution_count": 15
    }
   ],
   "source": [
    "news.articles[5].text"
   ]
  }
 ]
}