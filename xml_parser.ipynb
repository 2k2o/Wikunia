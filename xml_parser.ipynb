{
 "metadata": {
  "language_info": {
   "codemirror_mode": {
    "name": "ipython",
    "version": 3
   },
   "file_extension": ".py",
   "mimetype": "text/x-python",
   "name": "python",
   "nbconvert_exporter": "python",
   "pygments_lexer": "ipython3",
   "version": "3.8.6-final"
  },
  "orig_nbformat": 2,
  "kernelspec": {
   "name": "python3",
   "display_name": "Python 3"
  }
 },
 "nbformat": 4,
 "nbformat_minor": 2,
 "cells": [
  {
   "cell_type": "code",
   "execution_count": 4,
   "metadata": {},
   "outputs": [],
   "source": [
    "import feedparser\n",
    "import json\n",
    "import pathlib\n",
    "import datetime\n",
    "now = datetime.datetime.now()"
   ]
  },
  {
   "cell_type": "code",
   "execution_count": 5,
   "metadata": {},
   "outputs": [],
   "source": [
    "file1 = open('rss_de', 'r') \n",
    "lines = file1.readlines()"
   ]
  },
  {
   "cell_type": "code",
   "execution_count": 6,
   "metadata": {},
   "outputs": [],
   "source": [
    "l = []"
   ]
  },
  {
   "source": [
    "for line in lines:\n",
    "    url = line.strip()\n",
    "    newsfeed = feedparser.parse(url)\n",
    "    for entry in newsfeed.entries:\n",
    "        if \"published_parsed\" in entry.keys():\n",
    "            if now.year == entry.published_parsed[0] and now.month == entry.published_parsed[1] and now.day == entry.published_parsed[2]:\n",
    "                l.append(entry)\n",
    "        elif \"updated_parsed\" in entry.keys():\n",
    "            if now.year == entry.updated_parsed[0] and now.month == entry.updated_parsed[1] and now.day == entry.updated_parsed[2]:\n",
    "                l.append(entry)\n",
    "        else:\n",
    "            print(entry.keys())"
   ],
   "cell_type": "code",
   "metadata": {
    "tags": []
   },
   "execution_count": 12,
   "outputs": []
  },
  {
   "cell_type": "code",
   "execution_count": 14,
   "metadata": {},
   "outputs": [],
   "source": [
    "folder = \"rss/\"+str(now.year)+\"/\"+str(now.month)+\"/\"+str(now.day)\n",
    "pathlib.Path(folder).mkdir(parents=True, exist_ok=True)\n",
    "with open(folder+'/rss_de.json', 'w') as outfile:\n",
    "    json.dump(l, outfile)"
   ]
  },
  {
   "cell_type": "code",
   "execution_count": null,
   "metadata": {},
   "outputs": [],
   "source": []
  }
 ]
}